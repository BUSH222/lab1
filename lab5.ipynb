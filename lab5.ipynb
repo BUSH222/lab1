{
 "cells": [
  {
   "cell_type": "markdown",
   "metadata": {},
   "source": [
    "# Proxy"
   ]
  },
  {
   "cell_type": "code",
   "execution_count": null,
   "metadata": {},
   "outputs": [],
   "source": [
    "from abc import ABC, abstractmethod\n",
    "\n",
    "class Panel(ABC):\n",
    "    @abstractmethod\n",
    "    def new_user(self, username, password):\n",
    "        pass\n",
    "\n",
    "    @abstractmethod\n",
    "    def delete_user(self, username, password):\n",
    "        pass\n",
    "\n",
    "\n",
    "class AdminPanel(Panel):\n",
    "    def __init__(self, users):\n",
    "        self.users = users\n",
    "    \n",
    "    def new_user(self, username, password):\n",
    "        self.users[username] = password\n",
    "    \n",
    "    def delete_user(self, username, password):\n",
    "        self.users[username] = password\n",
    "\n",
    "\n",
    "class AdminPanelProxy(Panel):\n",
    "    def __init__(self, has_access):\n",
    "        self.has_access = has_access\n",
    "        self.admin_panel = AdminPanel(users={'Bob Brown': 'securepass321'})\n",
    "    \n",
    "    def new_user(self, username, password):\n",
    "        assert self.has_access\n",
    "        return self.admin_panel.new_user(username, password)\n",
    "    \n",
    "    def new_user(self, username, password):\n",
    "        assert self.has_access\n",
    "        return self.admin_panel.delete_user(username, password)\n",
    "    "
   ]
  },
  {
   "cell_type": "markdown",
   "metadata": {},
   "source": [
    "# Adapter"
   ]
  },
  {
   "cell_type": "code",
   "execution_count": null,
   "metadata": {},
   "outputs": [],
   "source": [
    "class Renderer(ABC):\n",
    "    @abstractmethod\n",
    "    def render_object(self, object_name: str):\n",
    "        pass\n",
    "\n",
    "class OpenGLRenderer:\n",
    "    def draw(self, obj: str):\n",
    "        print(f\"Rendering '{obj}' using OpenGL.\")\n",
    "\n",
    "class DirectXRenderer:\n",
    "    def render(self, obj: str):\n",
    "        print(f\"Rendering '{obj}' using DirectX.\")\n",
    "\n",
    "class OpenGLAdapter(Renderer):\n",
    "    def __init__(self, opengl_renderer: OpenGLRenderer):\n",
    "        self.opengl_renderer = opengl_renderer\n",
    "\n",
    "    def render_object(self, object_name: str):\n",
    "        self.opengl_renderer.draw(object_name)\n",
    "\n",
    "class DirectXAdapter(Renderer):\n",
    "    def __init__(self, directx_renderer: DirectXRenderer):\n",
    "        self.directx_renderer = directx_renderer\n",
    "\n",
    "    def render_object(self, object_name: str):\n",
    "        self.directx_renderer.render(object_name)\n",
    "\n"
   ]
  },
  {
   "cell_type": "markdown",
   "metadata": {},
   "source": [
    "# Bridge"
   ]
  },
  {
   "cell_type": "code",
   "execution_count": null,
   "metadata": {},
   "outputs": [],
   "source": [
    "class MediaExporter(ABC):\n",
    "    def export(self, data: str):\n",
    "        pass\n",
    "\n",
    "class PNGExporter(MediaExporter): # refined abstraction\n",
    "    def export(self, data: str):\n",
    "        print(f\"Exporting data as a PNG image: {data}\")\n",
    "\n",
    "class MP4Exporter(MediaExporter):\n",
    "    def export(self, data: str):\n",
    "        print(f\"Exporting data as an MP4 video: {data}\")\n",
    "\n",
    "\n",
    "class Media(ABC):\n",
    "    def __init__(self, exporter: MediaExporter):\n",
    "        self.exporter = exporter\n",
    "\n",
    "    def save(self, data: str):\n",
    "        pass\n",
    "\n",
    "class ImageMedia(Media):\n",
    "    def save(self, data: str):\n",
    "        print(\"Preparing image data...\")\n",
    "        self.exporter.export(data)\n",
    "\n",
    "class VideoMedia(Media):\n",
    "    def save(self, data: str):\n",
    "        print(\"Preparing video data...\")\n",
    "        self.exporter.export(data)\n"
   ]
  }
 ],
 "metadata": {
  "language_info": {
   "name": "python"
  }
 },
 "nbformat": 4,
 "nbformat_minor": 2
}
