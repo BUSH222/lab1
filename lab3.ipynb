{
 "cells": [
  {
   "cell_type": "markdown",
   "metadata": {},
   "source": [
    "# Singleton\n",
    "I will create a logging class\n",
    "\n",
    "Note that print(logger1.get_logs()) prints all logs, even for logger2 because they are the same"
   ]
  },
  {
   "cell_type": "code",
   "execution_count": 2,
   "metadata": {},
   "outputs": [
    {
     "name": "stdout",
     "output_type": "stream",
     "text": [
      "True\n",
      "abc\n",
      "123\n"
     ]
    }
   ],
   "source": [
    "class Logger:\n",
    "    _instance = None\n",
    "\n",
    "    def __new__(cls):\n",
    "        if cls._instance is None:\n",
    "            cls._instance = super(Logger, cls).__new__(cls)\n",
    "            cls._instance.logs = []\n",
    "        return cls._instance\n",
    "\n",
    "    def log(self, text):\n",
    "        self.logs.append(text)\n",
    "    \n",
    "    def get_logs(self):\n",
    "        return '\\n'.join(self.logs)\n",
    "\n",
    "\n",
    "logger1 = Logger()\n",
    "logger2 = Logger()\n",
    "\n",
    "print(logger1 is logger2)\n",
    "\n",
    "logger1.log('abc')\n",
    "logger2.log('123')\n",
    "\n",
    "print(logger1.get_logs())"
   ]
  },
  {
   "cell_type": "markdown",
   "metadata": {},
   "source": [
    "# Factory methods\n",
    "\n",
    "I will create a class for different types of transporting goods: by car, by plane, by boat"
   ]
  },
  {
   "cell_type": "code",
   "execution_count": 3,
   "metadata": {},
   "outputs": [
    {
     "name": "stdout",
     "output_type": "stream",
     "text": [
      "Delivering by boat\n"
     ]
    }
   ],
   "source": [
    "class Transport:\n",
    "    def deliver(self):\n",
    "        pass\n",
    "\n",
    "class Car(Transport):\n",
    "    def deliver(self):\n",
    "        return \"Delivering by car\"\n",
    "\n",
    "class Boat(Transport):\n",
    "    def deliver(self):\n",
    "        return \"Delivering by boat\"\n",
    "\n",
    "class Airplane(Transport):\n",
    "    def deliver(self):\n",
    "        return \"Delivering by airplane\"\n",
    "\n",
    "class TransportFactory:\n",
    "    def create_transport(self):\n",
    "        pass\n",
    "\n",
    "class CarFactory(TransportFactory):\n",
    "    def create_transport(self):\n",
    "        return Car()\n",
    "\n",
    "class BoatFactory(TransportFactory):\n",
    "    def create_transport(self):\n",
    "        return Boat()\n",
    "\n",
    "# Usage\n",
    "transport_factory = BoatFactory()\n",
    "transport = transport_factory.create_transport()\n",
    "print(transport.deliver())"
   ]
  }
 ],
 "metadata": {
  "kernelspec": {
   "display_name": "Python 3",
   "language": "python",
   "name": "python3"
  },
  "language_info": {
   "codemirror_mode": {
    "name": "ipython",
    "version": 3
   },
   "file_extension": ".py",
   "mimetype": "text/x-python",
   "name": "python",
   "nbconvert_exporter": "python",
   "pygments_lexer": "ipython3",
   "version": "3.12.6"
  }
 },
 "nbformat": 4,
 "nbformat_minor": 2
}
