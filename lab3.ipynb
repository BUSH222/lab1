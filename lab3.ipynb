{
 "cells": [
  {
   "cell_type": "markdown",
   "metadata": {},
   "source": [
    "# Singleton\n",
    "This is a logging class\n",
    "\n",
    "Note that print(logger1.get_logs()) prints all logs, even for logger2 because they are the same"
   ]
  },
  {
   "cell_type": "code",
   "execution_count": 2,
   "metadata": {},
   "outputs": [
    {
     "name": "stdout",
     "output_type": "stream",
     "text": [
      "True\n",
      "abc\n",
      "123\n"
     ]
    }
   ],
   "source": [
    "class Logger:\n",
    "    _instance = None\n",
    "\n",
    "    def __new__(cls):\n",
    "        if cls._instance is None:\n",
    "            cls._instance = super(Logger, cls).__new__(cls)\n",
    "            cls._instance.logs = []\n",
    "        return cls._instance\n",
    "\n",
    "    def log(self, text):\n",
    "        self.logs.append(text)\n",
    "    \n",
    "    def get_logs(self):\n",
    "        return '\\n'.join(self.logs)\n",
    "\n",
    "\n",
    "logger1 = Logger()\n",
    "logger2 = Logger()\n",
    "\n",
    "print(logger1 is logger2)\n",
    "\n",
    "logger1.log('abc')\n",
    "logger2.log('123')\n",
    "\n",
    "print(logger1.get_logs())"
   ]
  },
  {
   "cell_type": "markdown",
   "metadata": {},
   "source": [
    "# Factory methods\n",
    "\n",
    "Factory method for different types of transporting goods: by car, by plane, by boat"
   ]
  },
  {
   "cell_type": "code",
   "execution_count": 3,
   "metadata": {},
   "outputs": [
    {
     "name": "stdout",
     "output_type": "stream",
     "text": [
      "Delivering by boat\n"
     ]
    }
   ],
   "source": [
    "class Transport:\n",
    "    def deliver(self):\n",
    "        pass\n",
    "\n",
    "class Car(Transport):\n",
    "    def deliver(self):\n",
    "        return \"Delivering by car\"\n",
    "\n",
    "class Boat(Transport):\n",
    "    def deliver(self):\n",
    "        return \"Delivering by boat\"\n",
    "\n",
    "class Airplane(Transport):\n",
    "    def deliver(self):\n",
    "        return \"Delivering by airplane\"\n",
    "\n",
    "class TransportFactory:\n",
    "    def create_transport(self):\n",
    "        pass\n",
    "\n",
    "class CarFactory(TransportFactory):\n",
    "    def create_transport(self):\n",
    "        return Car()\n",
    "\n",
    "class BoatFactory(TransportFactory):\n",
    "    def create_transport(self):\n",
    "        return Boat()\n",
    "\n",
    "# Usage\n",
    "transport_factory = BoatFactory()\n",
    "transport = transport_factory.create_transport()\n",
    "print(transport.deliver())"
   ]
  },
  {
   "cell_type": "markdown",
   "metadata": {},
   "source": [
    "# Abstract factories\n",
    "\n",
    "This is an abstract factory for cross-platform GUI management."
   ]
  },
  {
   "cell_type": "code",
   "execution_count": 1,
   "metadata": {},
   "outputs": [
    {
     "name": "stdout",
     "output_type": "stream",
     "text": [
      "Windows Button\n",
      "Windows Checkbox\n"
     ]
    }
   ],
   "source": [
    "from abc import ABC\n",
    "\n",
    "class Button:\n",
    "    def click(self):\n",
    "        pass\n",
    "\n",
    "class Checkbox:\n",
    "    def toggle(self):\n",
    "        pass\n",
    "\n",
    "class WindowsButton(Button):\n",
    "    def click(self):\n",
    "        return \"Windows Button\"\n",
    "\n",
    "class MacButton(Button):\n",
    "    def click(self):\n",
    "        return \"Mac Button\"\n",
    "\n",
    "class WindowsCheckbox(Checkbox):\n",
    "    def toggle(self):\n",
    "        return \"Windows Checkbox\"\n",
    "\n",
    "class MacCheckbox(Checkbox):\n",
    "    def toggle(self):\n",
    "        return \"Mac Checkbox\"\n",
    "\n",
    "\n",
    "class GUIFactory(ABC):\n",
    "    def create_button(self):\n",
    "        pass\n",
    "    def create_checkbox(self):\n",
    "        pass\n",
    "\n",
    "class WindowsFactory(GUIFactory):\n",
    "    def create_button(self):\n",
    "        return WindowsButton()\n",
    "    def create_checkbox(self):\n",
    "        return WindowsCheckbox()\n",
    "\n",
    "class MacFactory(GUIFactory):\n",
    "    def create_button(self):\n",
    "        return MacButton()\n",
    "    def create_checkbox(self):\n",
    "        return MacCheckbox()\n",
    "\n",
    "def create_gui(factory: GUIFactory):\n",
    "    button = factory.create_button()\n",
    "    checkbox = factory.create_checkbox()\n",
    "    print(button.click())\n",
    "    print(checkbox.toggle())\n",
    "\n",
    "factory = WindowsFactory()\n",
    "create_gui(factory)"
   ]
  },
  {
   "cell_type": "markdown",
   "metadata": {},
   "source": [
    "# Builder\n",
    "\n",
    "This is a builder of html webpages, with normal and nested tags"
   ]
  },
  {
   "cell_type": "code",
   "execution_count": 3,
   "metadata": {},
   "outputs": [
    {
     "name": "stdout",
     "output_type": "stream",
     "text": [
      "<h1>This is a heading.</h1>\n",
      "<p>This is a paragraph.</p>\n",
      "<div><span>This is inside a div.</span></div>\n"
     ]
    }
   ],
   "source": [
    "import tempfile\n",
    "import webbrowser\n",
    "\n",
    "class HTMLBuilder:\n",
    "    def __init__(self):\n",
    "        self.elements = []\n",
    "\n",
    "    def add_element(self, tag, content):\n",
    "        self.elements.append(f\"<{tag}>{content}</{tag}>\")\n",
    "        return self\n",
    "\n",
    "    def add_nested_element(self, tag1, tag2, content):\n",
    "        nested = f\"<{tag1}><{tag2}>{content}</{tag2}></{tag1}>\"\n",
    "        self.elements.append(nested)\n",
    "        return self\n",
    "\n",
    "    def build(self):\n",
    "        return \"\\n\".join(self.elements)\n",
    "\n",
    "# Usage\n",
    "html_builder = HTMLBuilder()\n",
    "html = (html_builder.add_element(\"h1\", \"This is a heading.\")\n",
    "                    .add_element(\"p\", \"This is a paragraph.\")\n",
    "                    .add_nested_element(\"div\", \"span\", \"This is inside a div.\")\n",
    "                    .build())\n",
    "\n",
    "# with tempfile.NamedTemporaryFile('w', delete=False, suffix='.html') as f:\n",
    "#     url = 'file://' + f.name\n",
    "#     f.write(html)\n",
    "# webbrowser.open(url)\n",
    "\n",
    "print(html)"
   ]
  }
 ],
 "metadata": {
  "kernelspec": {
   "display_name": "Python 3",
   "language": "python",
   "name": "python3"
  },
  "language_info": {
   "codemirror_mode": {
    "name": "ipython",
    "version": 3
   },
   "file_extension": ".py",
   "mimetype": "text/x-python",
   "name": "python",
   "nbconvert_exporter": "python",
   "pygments_lexer": "ipython3",
   "version": "3.12.6"
  }
 },
 "nbformat": 4,
 "nbformat_minor": 2
}
