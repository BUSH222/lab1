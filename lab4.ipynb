{
 "cells": [
  {
   "cell_type": "markdown",
   "metadata": {},
   "source": [
    "# Behavioral patterns\n",
    "\n",
    "## Iterator pattern"
   ]
  },
  {
   "cell_type": "code",
   "execution_count": 5,
   "metadata": {},
   "outputs": [
    {
     "name": "stdout",
     "output_type": "stream",
     "text": [
      "<__main__.SimpleIterator object at 0x106305a60>\n",
      "10\n",
      "20\n",
      "False\n",
      "30\n",
      "<class '__main__.SimpleIterator'>\n",
      "bburh\n"
     ]
    }
   ],
   "source": [
    "class SimpleIterator:\n",
    "    def __init__(self, numbers):\n",
    "        self.contents = numbers\n",
    "        self.index = 0\n",
    "\n",
    "    def __iter__(self):\n",
    "        return self\n",
    "\n",
    "    def __next__(self):\n",
    "        if self.index < len(self.contents):\n",
    "            result = self.contents[self.index]\n",
    "            self.index += 1\n",
    "            return result\n",
    "        else:\n",
    "            raise StopIteration\n",
    "\n",
    "\n",
    "numbers = [10, '20', False, 30, 'bburh']\n",
    "iterator = SimpleIterator(numbers)\n",
    "\n",
    "print(iterator)\n",
    "\n",
    "for number in iterator:\n",
    "    print(number)\n"
   ]
  },
  {
   "cell_type": "markdown",
   "metadata": {},
   "source": [
    "## Chain of responsibility"
   ]
  },
  {
   "cell_type": "code",
   "execution_count": 13,
   "metadata": {},
   "outputs": [
    {
     "name": "stdout",
     "output_type": "stream",
     "text": [
      "can't perform an operation with 2 different values of different types\n"
     ]
    }
   ],
   "source": [
    "from abc import ABC, abstractmethod\n",
    "\n",
    "\n",
    "class HandleWeirdError(ABC):\n",
    "\n",
    "    def __init__(self):\n",
    "        self.next_handler = None\n",
    "    \n",
    "    def set_next(self, next_handler):\n",
    "        self.next_handler = next_handler\n",
    "        return next_handler\n",
    "    \n",
    "    @abstractmethod\n",
    "    def handle(self, error):\n",
    "        pass\n",
    "\n",
    "\n",
    "class HandleZeroDivision(HandleWeirdError):\n",
    "    def handle(self, error):\n",
    "        if isinstance(error, ZeroDivisionError):\n",
    "            return 'don\\'t divide by zero'\n",
    "        elif self.next_handler:\n",
    "            return self.next_handler.handle(error)\n",
    "        else:\n",
    "            return 'HandleZeroDivision: can\\'t handle the error'\n",
    "\n",
    "\n",
    "class HandleValueError(HandleWeirdError):\n",
    "    def handle(self, error):\n",
    "        if isinstance(error, ValueError):\n",
    "            return 'incorrect value type specified'\n",
    "        elif self.next_handler:\n",
    "            return self.next_handler.handle(error)\n",
    "        else:\n",
    "            return 'HandleValueError: can\\'t handle the error'\n",
    "\n",
    "\n",
    "class HandleTypeError(HandleWeirdError):\n",
    "    def handle(self, error):\n",
    "        if isinstance(error, TypeError):\n",
    "            return 'can\\'t perform an operation with 2 different values of different types'\n",
    "        elif self.next_handler:\n",
    "            return self.next_handler.handle(error)\n",
    "        else:\n",
    "            return 'HandleTypeError: can\\'t handle the error'\n",
    "\n",
    "\n",
    "class HandleKeyError(HandleWeirdError):\n",
    "    def handle(self, error):\n",
    "        if isinstance(error, KeyError):\n",
    "            return f'A key in this dictionary you specified doesn\\'t exist. Key: {error}'\n",
    "        elif self.next_handler:\n",
    "            return self.next_handler.handle(error)\n",
    "        else:\n",
    "            return 'KeyError: can\\'t handle the error'\n",
    "\n",
    "\n",
    "first_handler = HandleZeroDivision()\n",
    "value_error_handler = HandleValueError()\n",
    "type_error_handler = HandleTypeError()\n",
    "key_error_handler = HandleKeyError()\n",
    "\n",
    "first_handler.set_next(value_error_handler).set_next(type_error_handler).set_next(key_error_handler)\n",
    "\n",
    "try:\n",
    "    sampledict = dict()\n",
    "    bad_var = 4 / 'ten'\n",
    "    bad_var2 = 4 / 0\n",
    "    bad_var3 = sampledict[4]\n",
    "except Exception as e:\n",
    "    print(first_handler.handle(e))\n",
    "\n"
   ]
  },
  {
   "cell_type": "markdown",
   "metadata": {},
   "source": [
    "## Strategy"
   ]
  },
  {
   "cell_type": "code",
   "execution_count": 14,
   "metadata": {},
   "outputs": [
    {
     "data": {
      "text/plain": [
       "32"
      ]
     },
     "execution_count": 14,
     "metadata": {},
     "output_type": "execute_result"
    }
   ],
   "source": [
    "from abc import ABC, abstractmethod\n",
    "\n",
    "class Strategy(ABC):\n",
    "\n",
    "    @abstractmethod\n",
    "    def run(a, b):\n",
    "        pass\n",
    "\n",
    "class StrategyAdd(Strategy):\n",
    "    def run(a, b):\n",
    "        return a + b\n",
    "\n",
    "class StrategySubtract(Strategy):\n",
    "    def run(a, b):\n",
    "        return a - b\n",
    "    \n",
    "class StrategyMultiply(Strategy):\n",
    "    def run(a, b):\n",
    "        return a * b\n",
    "\n",
    "class StrategyDivide(Strategy):\n",
    "    def run(a, b):\n",
    "        assert b != 0\n",
    "        return a / b\n",
    "\n",
    "class StrategyPower(Strategy):\n",
    "    def run(a, b):\n",
    "        return a ** b\n",
    "\n",
    "\n",
    "class Context():\n",
    "    def __init__(self, defaultstrategy=StrategyAdd):\n",
    "        self.strategy = defaultstrategy\n",
    "    \n",
    "    def SetStrategy(self, strategy):\n",
    "        self.strategy = strategy\n",
    "    \n",
    "    def run(self, a, b):\n",
    "        return self.strategy.run(a, b)\n",
    "\n",
    "\n",
    "ctx = Context()\n",
    "ctx.SetStrategy(StrategyPower)\n",
    "ctx.run(2, 5)"
   ]
  }
 ],
 "metadata": {
  "kernelspec": {
   "display_name": "Python 3",
   "language": "python",
   "name": "python3"
  },
  "language_info": {
   "codemirror_mode": {
    "name": "ipython",
    "version": 3
   },
   "file_extension": ".py",
   "mimetype": "text/x-python",
   "name": "python",
   "nbconvert_exporter": "python",
   "pygments_lexer": "ipython3",
   "version": "3.12.6"
  }
 },
 "nbformat": 4,
 "nbformat_minor": 2
}
