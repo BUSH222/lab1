{
 "cells": [
  {
   "cell_type": "markdown",
   "metadata": {},
   "source": [
    "# Class for complex numbers"
   ]
  },
  {
   "cell_type": "code",
   "execution_count": 9,
   "metadata": {},
   "outputs": [],
   "source": [
    "import math\n",
    "\n",
    "class Complex:\n",
    "\n",
    "    def __init__(self, real, imag=0.0):\n",
    "        self.real = real\n",
    "        self.imag = imag\n",
    "\n",
    "    def __add__(self, other):\n",
    "        return Complex(self.real + other.real, self.imag + other.imag)\n",
    "\n",
    "    def __sub__(self, other):\n",
    "        return Complex(self.real - other.real, self.imag - other.imag)\n",
    "\n",
    "    def __mul__(self, other):\n",
    "        real = self.real * other.real - self.imag * other.imag\n",
    "        imag = self.real * other.imag + self.imag * other.real\n",
    "        return Complex(real, imag)\n",
    "\n",
    "    def __truediv__(self, other):\n",
    "        if other.real == 0 and other.imag == 0:\n",
    "            raise ZeroDivisionError\n",
    "        denom = other.real**2 + other.imag**2\n",
    "        real = (self.real * other.real + self.imag * other.imag) / denom\n",
    "        imag = (self.imag * other.real - self.real * other.imag) / denom\n",
    "        return Complex(real, imag)\n",
    "\n",
    "    def __eq__(self, other):\n",
    "        return self.real == other.real and self.imag == other.imag\n",
    "\n",
    "    def conjugate(self):\n",
    "        return Complex(self.real, -self.imag)\n",
    "\n",
    "    def magnitude(self):\n",
    "        return math.sqrt(self.real**2 + self.imag**2)\n",
    "\n",
    "    def __str__(self):\n",
    "        return f\"{self.real} + {self.imag}i\""
   ]
  },
  {
   "cell_type": "markdown",
   "metadata": {},
   "source": [
    "# Unit testing"
   ]
  },
  {
   "cell_type": "code",
   "execution_count": 11,
   "metadata": {},
   "outputs": [
    {
     "name": "stderr",
     "output_type": "stream",
     "text": [
      "test_addition (__main__.TestComplex.test_addition) ... ok\n",
      "test_conjugate (__main__.TestComplex.test_conjugate) ... ok\n",
      "test_division (__main__.TestComplex.test_division) ... ok\n",
      "test_division_by_zero (__main__.TestComplex.test_division_by_zero) ... ok\n",
      "test_equality (__main__.TestComplex.test_equality) ... ok\n",
      "test_magnitude (__main__.TestComplex.test_magnitude) ... ok\n",
      "test_multiplication (__main__.TestComplex.test_multiplication) ... ok\n",
      "test_not_equal (__main__.TestComplex.test_not_equal) ... ok\n",
      "test_string (__main__.TestComplex.test_string) ... ok\n",
      "test_subtraction (__main__.TestComplex.test_subtraction) ... ok\n",
      "\n",
      "----------------------------------------------------------------------\n",
      "Ran 10 tests in 0.016s\n",
      "\n",
      "OK\n"
     ]
    }
   ],
   "source": [
    "import unittest\n",
    "from unittest.mock import MagicMock\n",
    "\n",
    "class TestComplex(unittest.TestCase):\n",
    "    def test_addition(self):\n",
    "        c1 = Complex(1, 2)\n",
    "        c2 = Complex(3, 4)\n",
    "        result = c1 + c2\n",
    "        self.assertEqual(result, Complex(4, 6))\n",
    "\n",
    "    def test_subtraction(self):\n",
    "        c1 = Complex(5, 7)\n",
    "        c2 = Complex(2, 4)\n",
    "        result = c1 - c2\n",
    "        self.assertEqual(result, Complex(3, 3))\n",
    "\n",
    "    def test_multiplication(self):\n",
    "        c1 = Complex(1, 2)\n",
    "        c2 = Complex(3, 4)\n",
    "        result = c1 * c2\n",
    "        self.assertEqual(result, Complex(-5, 10))\n",
    "\n",
    "    def test_division(self):\n",
    "        c1 = Complex(3, 2)\n",
    "        c2 = Complex(1, -1)\n",
    "        result = c1 / c2\n",
    "        self.assertEqual(result, Complex(0.5, 2.5))\n",
    "\n",
    "    def test_division_by_zero(self):\n",
    "        c1 = Complex(1, 1)\n",
    "        c2 = Complex(0, 0)\n",
    "        with self.assertRaises(ZeroDivisionError):\n",
    "            _ = c1 / c2\n",
    "\n",
    "    def test_conjugate(self):\n",
    "        c1 = Complex(1, 2)\n",
    "        result = c1.conjugate()\n",
    "        self.assertEqual(result, Complex(1, -2))\n",
    "\n",
    "    def test_magnitude(self):\n",
    "        c1 = Complex(3, 4)\n",
    "        result = c1.magnitude()\n",
    "        self.assertEqual(result, 5.0)\n",
    "\n",
    "    def test_equality(self):\n",
    "        c1 = Complex(1, 1)\n",
    "        c2 = Complex(1, 1)\n",
    "        self.assertTrue(c1 == c2)\n",
    "\n",
    "    def test_not_equal(self):\n",
    "        c1 = Complex(1, 2)\n",
    "        c2 = Complex(2, 1)\n",
    "        self.assertFalse(c1 == c2)\n",
    "\n",
    "    def test_string(self):\n",
    "        c1 = Complex(3, -4)\n",
    "        self.assertEqual(str(c1), \"3 + -4i\")\n",
    "\n",
    "if __name__ == \"__main__\":\n",
    "    unittest.main(argv=[''], verbosity=2, exit=False)\n"
   ]
  }
 ],
 "metadata": {
  "kernelspec": {
   "display_name": "Python 3",
   "language": "python",
   "name": "python3"
  },
  "language_info": {
   "codemirror_mode": {
    "name": "ipython",
    "version": 3
   },
   "file_extension": ".py",
   "mimetype": "text/x-python",
   "name": "python",
   "nbconvert_exporter": "python",
   "pygments_lexer": "ipython3",
   "version": "3.12.6"
  }
 },
 "nbformat": 4,
 "nbformat_minor": 2
}
